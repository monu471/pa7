{
 "cells": [
  {
   "cell_type": "markdown",
   "id": "9eb2ff15",
   "metadata": {},
   "source": [
    "#### Q1. What is the purpose of the try statement?\n",
    "\n",
    "The purpose of the try statement is to enclose a block of code that might raise an exception. The code that might raise an exception is placed in the \"try\" block, and any exceptions that are raised in that block are handled by the corresponding \"except\" or \"finally\" blocks.\n",
    "\n",
    "The try statement allows you to handle exceptions that may occur in your code in a controlled and predictable way. It allows you to define a block of code that will be executed and to specify how the program should react if an exception occurs."
   ]
  },
  {
   "cell_type": "markdown",
   "id": "2a82c37d",
   "metadata": {},
   "source": [
    "### Q2. What are the two most popular try statement variations?\n",
    "\n",
    "try:\n",
    "\n",
    "    # code that might raise an exception\n",
    "except ExceptionType:\n",
    "\n",
    "    # code to handle the exception\n",
    "================================================================================================================================\n",
    "    \n",
    "try:\n",
    "\n",
    "    # code that might raise an exception\n",
    "except ExceptionType:\n",
    "\n",
    "    # code to handle the exception\n",
    "finally:\n",
    "\n",
    "    # code to execute at termination time\n",
    "\n",
    "    "
   ]
  },
  {
   "cell_type": "markdown",
   "id": "834989ac",
   "metadata": {},
   "source": [
    "### Q3. What is the purpose of the raise statement?\n",
    "\n",
    "The raise statement is used to trigger an exception in a script. The raise statement is used to create a new exception object and to cause the program to stop executing at the point where the exception was raised.\n",
    "\n",
    "The raise statement allows you to signal to the program that an error has occurred, and to provide a way to handle the error. The raise statement can be used to raise a built-in exception or a user-defined exception."
   ]
  },
  {
   "cell_type": "markdown",
   "id": "e8ca0c5f",
   "metadata": {},
   "source": [
    "### Q4. What does the assert statement do, and what other statement is it like?\n",
    "\n",
    "The assert statement is used to check a condition and to raise an exception if the condition is not true. The assert statement is often used for debugging and for input validation."
   ]
  },
  {
   "cell_type": "markdown",
   "id": "5b352696",
   "metadata": {},
   "source": [
    "### Q5. What is the purpose of the with/as argument, and what other statement is it like?\n",
    "\n",
    "\n",
    "The with/as statement is used to manage resources such as file handles, network connections, and database connections. It allows you to acquire a resource, perform operations on the resource, and then release the resource automatically, even if an exception occurs. The with statement is used to acquire the resource, and the as statement is used to assign a variable name to the resource."
   ]
  },
  {
   "cell_type": "code",
   "execution_count": null,
   "id": "ba862ae7",
   "metadata": {},
   "outputs": [],
   "source": []
  }
 ],
 "metadata": {
  "kernelspec": {
   "display_name": "Python 3 (ipykernel)",
   "language": "python",
   "name": "python3"
  },
  "language_info": {
   "codemirror_mode": {
    "name": "ipython",
    "version": 3
   },
   "file_extension": ".py",
   "mimetype": "text/x-python",
   "name": "python",
   "nbconvert_exporter": "python",
   "pygments_lexer": "ipython3",
   "version": "3.9.12"
  }
 },
 "nbformat": 4,
 "nbformat_minor": 5
}
